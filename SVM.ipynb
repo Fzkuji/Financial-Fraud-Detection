{
 "cells": [
  {
   "cell_type": "markdown",
   "metadata": {
    "_cell_guid": "725352dc-2e25-473d-a594-4095647b978c",
    "_execution_state": "idle",
    "_uuid": "6a0295e5a3d650b4e2fd26a55281b6379e4f23d0"
   },
   "source": [
    "SVM Linear Kernal"
   ]
  },
  {
   "cell_type": "code",
   "execution_count": 47,
   "metadata": {
    "_cell_guid": "e0bde41d-0e1f-4a2a-b346-10bf58c377bc",
    "_execution_state": "idle",
    "_uuid": "c0e28a682c295d509d2507d0aef0abe0a4591c97"
   },
   "outputs": [],
   "source": [
    "import numpy as np\n",
    "import matplotlib.pyplot as plt\n",
    "import pandas as pd\n",
    "import random\n",
    "\n",
    "random.seed(50)\n",
    "\n",
    "# Importing the dataset\n",
    "dataset = pd.read_csv('./datasets/SyntheticFinancialDatasets/syn_data.csv')\n",
    "dataset.drop('nameOrig', axis=1, inplace=True)\n",
    "dataset.drop('nameDest', axis=1, inplace=True)\n",
    "dataset.drop('isFlaggedFraud', axis=1, inplace=True)"
   ]
  },
  {
   "cell_type": "code",
   "execution_count": 63,
   "metadata": {
    "_cell_guid": "2203b9f1-2b92-4523-858a-ea0cc5f7989e",
    "_execution_state": "idle",
    "_uuid": "a1954290ef4021db2c0cbc439d2fd713eb2004e2"
   },
   "outputs": [
    {
     "name": "stdout",
     "output_type": "stream",
     "text": [
      "0    49942\n",
      "1       58\n",
      "Name: isFraud, dtype: int64\n"
     ]
    }
   ],
   "source": [
    "sample_dataframe = dataset.sample(n=50000)\n",
    "X = sample_dataframe.iloc[:, :-1].values\n",
    "y = sample_dataframe.iloc[:, 7].values\n",
    "\n",
    "print(sample_dataframe.isFraud.value_counts())"
   ]
  },
  {
   "cell_type": "code",
   "execution_count": 64,
   "metadata": {
    "_cell_guid": "1a8cd841-3ea6-45c1-865e-9f3aa27230e4",
    "_execution_state": "idle",
    "_uuid": "62e871d52d5e0206d54f4ec56f07ef41931f1efd"
   },
   "outputs": [],
   "source": [
    "# Encoding categorical data\n",
    "from sklearn.preprocessing import LabelEncoder, OneHotEncoder\n",
    "from sklearn.compose import ColumnTransformer\n",
    "\n",
    "# LabelEncoder\n",
    "labelencoder = LabelEncoder()\n",
    "X[:, 1] = labelencoder.fit_transform(X[:, 1])\n",
    "\n",
    "# OneHotEncoder\n",
    "onehotencoder = ColumnTransformer([(\"type\", OneHotEncoder(), [1])], remainder = 'passthrough')\n",
    "X = onehotencoder.fit_transform(X)\n",
    "\n",
    "# Avoiding the Dummy Variable Trap\n",
    "X = X[:, 1:]"
   ]
  },
  {
   "cell_type": "code",
   "execution_count": 65,
   "metadata": {
    "_cell_guid": "26b616c8-581d-4f42-a85d-35b9603916a9",
    "_execution_state": "idle",
    "_uuid": "956c89de172642f6faf5447cf77d3bad52330640"
   },
   "outputs": [],
   "source": [
    "# Splitting the dataset into the Training set and Test set\n",
    "\n",
    "from sklearn.model_selection import train_test_split\n",
    "X_train, X_test, y_train, y_test = train_test_split(X, y, test_size=0.3, random_state=1)\n",
    "X_test, X_val, y_test, y_val = train_test_split(X_test, y_test, test_size=0.5, random_state=1)\n",
    "\n",
    "# positive and negative sets counts\n",
    "counts = np.unique(y_train, return_counts=True)"
   ]
  },
  {
   "cell_type": "code",
   "execution_count": 66,
   "metadata": {
    "_cell_guid": "8bbcd455-4663-42f9-b9f2-874163a6a46b",
    "_execution_state": "idle",
    "_uuid": "d06cf50d7c1d84f02862472b9d7332b6cc8a5c4d"
   },
   "outputs": [
    {
     "name": "stdout",
     "output_type": "stream",
     "text": [
      "(array([0, 1], dtype=int64), array([34955,    45], dtype=int64))\n"
     ]
    }
   ],
   "source": [
    "# Feature Scaling\n",
    "from sklearn.preprocessing import StandardScaler\n",
    "\n",
    "sc = StandardScaler()\n",
    "X_train = sc.fit_transform(X_train)\n",
    "X_val = sc.transform(X_val)\n",
    "X_test = sc.transform(X_test)\n",
    "print(counts)"
   ]
  },
  {
   "cell_type": "code",
   "execution_count": 67,
   "metadata": {
    "_cell_guid": "536c7f48-40aa-48ff-b82c-0ac5e5916d72",
    "_execution_state": "idle",
    "_uuid": "d7e6bb24e832fdc05bcf18b072beea1ed34c1e5e"
   },
   "outputs": [],
   "source": [
    "# Fitting Kernel SVM to the Training set\n",
    "from sklearn.svm import LinearSVC\n",
    "from imblearn.under_sampling import NearMiss\n",
    "from imblearn import over_sampling as os\n",
    "from imblearn.pipeline import make_pipeline\n",
    "from imblearn.combine import SMOTETomek\n",
    "from imblearn.over_sampling import ADASYN\n",
    "from imblearn.under_sampling import ClusterCentroids\n",
    "from imblearn.over_sampling import RandomOverSampler"
   ]
  },
  {
   "cell_type": "code",
   "execution_count": 68,
   "metadata": {
    "_cell_guid": "d9a6b0eb-278b-47df-8d72-99772f948168",
    "_execution_state": "idle",
    "_uuid": "e85eecd5e158039e847d630cc84e0f6ce7ee7a44"
   },
   "outputs": [
    {
     "name": "stdout",
     "output_type": "stream",
     "text": [
      "(array([0, 1], dtype=int64), array([69907, 69896], dtype=int64))\n"
     ]
    },
    {
     "name": "stderr",
     "output_type": "stream",
     "text": [
      "C:\\Users\\fzkuji\\.conda\\envs\\Finance\\lib\\site-packages\\sklearn\\svm\\_base.py:986: ConvergenceWarning: Liblinear failed to converge, increase the number of iterations.\n",
      "  \"the number of iterations.\", ConvergenceWarning)\n"
     ]
    }
   ],
   "source": [
    "# # Apply the sampling\n",
    "# ada = ADASYN()\n",
    "# X_resampled, y_resampled = ada.fit_resample(X_train, y_train)\n",
    "# count = np.unique(y_resampled, return_counts=True)\n",
    "\n",
    "# Create a pipeline\n",
    "\n",
    "# pipeline4 = make_pipeline(ADASYN(),LinearSVC(random_state=1))\n",
    "model = LinearSVC(random_state=1)\n",
    "model.fit(X_train, y_train)\n",
    "print(count)"
   ]
  },
  {
   "cell_type": "code",
   "execution_count": 69,
   "metadata": {
    "_cell_guid": "8df90ec6-82cb-412c-9910-1bf294537011",
    "_execution_state": "idle",
    "_uuid": "1f48678f0d1d5d867e28c6cfc2f259c3d39ce130"
   },
   "outputs": [
    {
     "name": "stdout",
     "output_type": "stream",
     "text": [
      "                   pre       rec       spe        f1       geo       iba       sup\n",
      "\n",
      "          0       1.00      1.00      0.00      1.00      0.00      0.00      7495\n",
      "          1       0.00      0.00      1.00      0.00      0.00      0.00         5\n",
      "\n",
      "avg / total       1.00      1.00      0.00      1.00      0.00      0.00      7500\n",
      "\n"
     ]
    }
   ],
   "source": [
    "# Classify and report the results\n",
    "from imblearn.metrics import classification_report_imbalanced\n",
    "print(classification_report_imbalanced(y_test, model.predict(X_test)))"
   ]
  },
  {
   "cell_type": "code",
   "execution_count": 70,
   "metadata": {
    "_cell_guid": "55f77de2-a42c-4a17-aefb-df003ec28ca1",
    "_execution_state": "idle",
    "_uuid": "4925c9efaf3b4f559c69e66f12cfca03de466ca0"
   },
   "outputs": [],
   "source": [
    "# Making the Confusion Matrix\n",
    "from sklearn.metrics import confusion_matrix, precision_score,auc,roc_auc_score,roc_curve,recall_score\n",
    "\n",
    "cm = confusion_matrix(y_val, model.predict(X_val))\n",
    "roc = roc_auc_score(y_val, model.predict(X_val))\n",
    "fpr, tpr, thresholds = roc_curve(y_val, model.predict(X_val))\n",
    "roc_auc = auc(fpr,tpr)"
   ]
  },
  {
   "cell_type": "code",
   "execution_count": 71,
   "metadata": {
    "_cell_guid": "f08e18a0-66ea-4a26-a061-c971991a09ed",
    "_execution_state": "idle",
    "_uuid": "53b889f92dbbfe3864ff433897e3e5776ef8d3fe"
   },
   "outputs": [
    {
     "data": {
      "image/png": "[encoded data removed]",
      "text/plain": [
       "<Figure size 432x288 with 1 Axes>"
      ]
     },
     "metadata": {
      "needs_background": "light"
     },
     "output_type": "display_data"
    }
   ],
   "source": [
    "# Plot ROC\n",
    "plt.title('Receiver Operating Characteristic')\n",
    "plt.plot(fpr, tpr, 'b',label='AUC = %0.2f'% roc_auc)\n",
    "plt.legend(loc='lower right')\n",
    "plt.plot([0,1],[0,1],'r--')\n",
    "plt.xlim([-0.1,1.0])\n",
    "plt.ylim([-0.1,1.01])\n",
    "plt.ylabel('True Positive Rate')\n",
    "plt.xlabel('False Positive Rate')\n",
    "plt.show()"
   ]
  },
  {
   "cell_type": "markdown",
   "metadata": {
    "_cell_guid": "1efea1d3-7380-42f6-bc17-6c570165e6dd",
    "_execution_state": "idle",
    "_uuid": "4eaf536d6c13db62b02f4a262c584dd66007f535"
   },
   "source": [
    "Linear Kernel SVM = AUC 0.96"
   ]
  },
  {
   "cell_type": "code",
   "execution_count": null,
   "metadata": {
    "_cell_guid": "a99764c1-d1fd-4cdd-b6e6-4243aaa2c107",
    "_execution_state": "idle",
    "_uuid": "d2218b16092be75f628c85ee479d85c9c693a1a4"
   },
   "outputs": [],
   "source": []
  }
 ],
 "metadata": {
  "kernelspec": {
   "display_name": "Python 3 (ipykernel)",
   "language": "python",
   "name": "python3"
  },
  "language_info": {
   "codemirror_mode": {
    "name": "ipython",
    "version": 3
   },
   "file_extension": ".py",
   "mimetype": "text/x-python",
   "name": "python",
   "nbconvert_exporter": "python",
   "pygments_lexer": "ipython3",
   "version": "3.7.11"
  }
 },
 "nbformat": 4,
 "nbformat_minor": 1
}